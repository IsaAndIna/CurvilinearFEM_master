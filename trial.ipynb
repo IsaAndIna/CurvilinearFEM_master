{
 "cells": [
  {
   "cell_type": "code",
   "execution_count": 1,
   "metadata": {},
   "outputs": [],
   "source": [
    "import numpy as np\n",
    "import matplotlib.pyplot as plt\n",
    "#from scipy.sparse import coo_array\n",
    "import pandas as pd\n",
    "\n",
    "from scipy.sparse import coo_matrix\n",
    "from scipy.sparse.linalg import spsolve"
   ]
  },
  {
   "cell_type": "code",
   "execution_count": 2,
   "metadata": {},
   "outputs": [],
   "source": [
    "import CurvilinearFEM_Trial_2D as FEM\n"
   ]
  },
  {
   "cell_type": "code",
   "execution_count": 5,
   "metadata": {},
   "outputs": [
    {
     "name": "stdout",
     "output_type": "stream",
     "text": [
      "alpha.name='square' transformation\n",
      "N_divisions=5 N_divisions\n"
     ]
    }
   ],
   "source": [
    "alphas=[\n",
    "        FEM.custom_function_2d_vector(lambda xy:  np.array([(xy[0]+1)**2,(xy[1]+1)**2]),\n",
    "                                      lambda xy:  np.array([[(xy[0]+1)*2,0],[0,(xy[1]+1)*2]]),\n",
    "                                 lambda st:  np.array([st[0]**0.5-1,st[1]**0.5-1]),\n",
    "                                 lambda st:  np.array([[[-0.25*st[0]**(-1.5),0],[0,0]],[[0,0],[0,-0.25*st[1]**(-1.5)]]]),\n",
    "                          \"square\"),\n",
    "        FEM.custom_function_2d_vector(lambda xy: np.array( [(xy[0]+1)**3,(xy[1]+1)**3]),\n",
    "                                      lambda xy: np.array( [[3*(xy[0]+1)**2,0],[0,3*(xy[1]+1)**2]]),\n",
    "                                 lambda st: np.array( [st[0]**(1/3)-1,st[1]**(1/3)-1]),\n",
    "                                 lambda st: np.array( [[[-2/9*st[0]**(-5/3),0],[0,0]],[[0,0],[0,-2/9*st[1]**(-5/3)]]]),\n",
    "                          \"cube\"),\n",
    "        FEM.custom_function_2d_vector(lambda xy:  np.array([xy[0],(xy[1]+1)**2]),\n",
    "                                      lambda xy: np.array( [[1,0],[0,(xy[1]+1)*2]]),\n",
    "                          lambda st:  np.array( [st[0],st[1]**0.5-1]), \n",
    "                                 lambda st: np.array( [[[0,0],[0,0]],[[0,0],[0,-0.25*st[1]**(-1.5)]]]),\n",
    "                          \"Xlinear-Ysquare\"),\n",
    "        FEM.custom_function_2d_vector(lambda xy: np.array( [xy[0],xy[1]]),\n",
    "                                      lambda xy: np.array( [[1,0],[0,1]]),\n",
    "                                 lambda st: np.array( [st[0],st[1]]),\n",
    "                                 lambda st:  np.array([[[0,0],[0,0]],[[0,0],[0,0]]]),\n",
    "                          \"identity\"),\n",
    "        FEM.custom_function_2d_vector(lambda xy: np.array( [xy[0],np.sin(xy[1])]),\n",
    "                                      lambda xy: np.array( [[1,0],[0,np.cos(xy[1])]]),\n",
    "                          lambda st:np.array(   [st[0],np.arcsin(st[1])]), \n",
    "                                 lambda st: np.array( [[[0,0],[0,0]],[[0,0],[0,st[1]*(1-st[1])**(-1.5)]]]),\n",
    "                                 \n",
    "                          \"Xlinear-Ysin\")]\n",
    "for alpha in alphas:\n",
    "    print(f'{alpha.name=} transformation')\n",
    "    for N_divisions in [5,10,20,30,40,50]:\n",
    "        print(f'{N_divisions=} N_divisions')\n",
    "        FEM.main_vector(N_divisions,alpha)"
   ]
  },
  {
   "cell_type": "code",
   "execution_count": null,
   "metadata": {},
   "outputs": [],
   "source": []
  }
 ],
 "metadata": {
  "kernelspec": {
   "display_name": "fenicsx",
   "language": "python",
   "name": "python3"
  },
  "language_info": {
   "codemirror_mode": {
    "name": "ipython",
    "version": 3
   },
   "file_extension": ".py",
   "mimetype": "text/x-python",
   "name": "python",
   "nbconvert_exporter": "python",
   "pygments_lexer": "ipython3",
   "version": "3.10.11"
  }
 },
 "nbformat": 4,
 "nbformat_minor": 2
}
